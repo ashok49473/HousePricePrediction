{
 "cells": [
  {
   "cell_type": "code",
   "execution_count": 52,
   "metadata": {},
   "outputs": [],
   "source": [
    "import pandas as pd\n",
    "import numpy as np\n",
    "import matplotlib.pyplot as plt\n",
    "\n",
    "from sklearn.model_selection import StratifiedShuffleSplit\n",
    "from sklearn.impute import SimpleImputer\n",
    "from sklearn.preprocessing import OneHotEncoder\n",
    "from sklearn.base import BaseEstimator, TransformerMixin\n",
    "from sklearn.pipeline import Pipeline\n",
    "from sklearn.preprocessing import StandardScaler\n",
    "from sklearn.compose import ColumnTransformer\n",
    "\n",
    "from sklearn.linear_model import LinearRegression\n",
    "from sklearn.tree import DecisionTreeRegressor\n",
    "from sklearn.ensemble import RandomForestRegressor\n",
    "from sklearn.svm import SVR\n",
    "\n",
    "from sklearn.model_selection import GridSearchCV \n",
    "from sklearn.model_selection import cross_val_score\n",
    "from sklearn.metrics import mean_squared_error\n",
    "from scipy import stats\n",
    "%matplotlib inline"
   ]
  },
  {
   "cell_type": "code",
   "execution_count": 2,
   "metadata": {},
   "outputs": [],
   "source": [
    "housing = pd.read_csv('datasets/housing/housing.csv')"
   ]
  },
  {
   "cell_type": "code",
   "execution_count": 3,
   "metadata": {},
   "outputs": [],
   "source": [
    "housing[\"income_cat\"] = pd.cut(housing[\"median_income\"], \n",
    "                               bins=[0., 1.5, 3.0, 4.5, 6., np.inf],\n",
    "                               labels=[1, 2, 3, 4, 5])\n",
    "\n",
    "split = StratifiedShuffleSplit(n_splits=1, test_size=0.2, random_state=42)\n",
    "\n",
    "for train_index, test_index in split.split(housing, housing[\"income_cat\"]):\n",
    "    strat_train_set = housing.loc[train_index]  \n",
    "    strat_test_set = housing.loc[test_index]\n",
    "    \n",
    "for set_ in (strat_train_set, strat_test_set):\n",
    "    set_.drop(\"income_cat\", axis=1, inplace=True)"
   ]
  },
  {
   "cell_type": "code",
   "execution_count": 4,
   "metadata": {},
   "outputs": [],
   "source": [
    "housing = strat_train_set.drop(\"median_house_value\", axis=1)\n",
    "housing_labels = strat_train_set[\"median_house_value\"].copy()"
   ]
  },
  {
   "cell_type": "code",
   "execution_count": 5,
   "metadata": {},
   "outputs": [],
   "source": [
    "rooms_ix, bedrooms_ix, population_ix, households_ix = 3, 4, 5, 6 \n",
    "class CombinedAttributesAdder(BaseEstimator, TransformerMixin):\n",
    "    \n",
    "    def fit(self, X, y=None):\n",
    "        return self  # nothing else to do\n",
    "    \n",
    "    def transform(self, X, y=None):\n",
    "        \n",
    "        rooms_per_household = X[:, rooms_ix] / X[:, households_ix]\n",
    "        population_per_household = X[:, population_ix] / X[:, households_ix]\n",
    "        bedrooms_per_room = X[:, bedrooms_ix] / X[:, rooms_ix]\n",
    "        \n",
    "        return np.c_[X, rooms_per_household, population_per_household,bedrooms_per_room] \n"
   ]
  },
  {
   "cell_type": "code",
   "execution_count": 6,
   "metadata": {},
   "outputs": [],
   "source": [
    "num_pipeline = Pipeline([('imputer', SimpleImputer(strategy=\"median\")), \n",
    "                         ('attribs_adder', CombinedAttributesAdder()), \n",
    "                         ('std_scaler', StandardScaler()), \n",
    "                        ])\n",
    "\n",
    "cat_pipeline = Pipeline([('encoder', OneHotEncoder())\n",
    "                        ])"
   ]
  },
  {
   "cell_type": "code",
   "execution_count": 7,
   "metadata": {},
   "outputs": [],
   "source": [
    "housing_num = housing.drop(\"ocean_proximity\", axis=1)\n",
    "housing_cat = housing[[\"ocean_proximity\"]] \n",
    "num_attribs = list(housing_num)\n",
    "cat_attribs = [\"ocean_proximity\"]\n",
    "\n",
    "full_pipeline = ColumnTransformer([(\"num\", num_pipeline, num_attribs),\n",
    "                                   (\"cat\", cat_pipeline, cat_attribs), \n",
    "                                  ]) \n",
    " "
   ]
  },
  {
   "cell_type": "code",
   "execution_count": 8,
   "metadata": {},
   "outputs": [],
   "source": [
    "housing_prepared = full_pipeline.fit_transform(housing)"
   ]
  },
  {
   "cell_type": "markdown",
   "metadata": {},
   "source": [
    "# Model building"
   ]
  },
  {
   "cell_type": "code",
   "execution_count": 9,
   "metadata": {},
   "outputs": [
    {
     "data": {
      "text/plain": [
       "68628.19819848922"
      ]
     },
     "execution_count": 9,
     "metadata": {},
     "output_type": "execute_result"
    }
   ],
   "source": [
    "lin_reg = LinearRegression()\n",
    "lin_reg.fit(housing_prepared, housing_labels)\n",
    "housing_predictions = lin_reg.predict(housing_prepared) \n",
    "lin_rmse = np.sqrt(mean_squared_error(housing_labels, housing_predictions))\n",
    "lin_rmse"
   ]
  },
  {
   "cell_type": "code",
   "execution_count": 10,
   "metadata": {},
   "outputs": [
    {
     "data": {
      "text/plain": [
       "0.0"
      ]
     },
     "execution_count": 10,
     "metadata": {},
     "output_type": "execute_result"
    }
   ],
   "source": [
    "tree_reg = DecisionTreeRegressor()\n",
    "tree_reg.fit(housing_prepared, housing_labels)\n",
    "housing_predictions = tree_reg.predict(housing_prepared)\n",
    "tree_rmse = np.sqrt(mean_squared_error(housing_labels, housing_predictions) )\n",
    "tree_rmse"
   ]
  },
  {
   "cell_type": "code",
   "execution_count": 11,
   "metadata": {},
   "outputs": [
    {
     "data": {
      "text/plain": [
       "18740.897498377428"
      ]
     },
     "execution_count": 11,
     "metadata": {},
     "output_type": "execute_result"
    }
   ],
   "source": [
    "forest_reg = RandomForestRegressor()\n",
    "forest_reg.fit(housing_prepared, housing_labels)\n",
    "housing_predictions = forest_reg.predict(housing_prepared)\n",
    "forest_rmse = np.sqrt(mean_squared_error(housing_labels, housing_predictions) )\n",
    "forest_rmse"
   ]
  },
  {
   "cell_type": "code",
   "execution_count": 50,
   "metadata": {},
   "outputs": [
    {
     "data": {
      "text/plain": [
       "118580.68301157995"
      ]
     },
     "execution_count": 50,
     "metadata": {},
     "output_type": "execute_result"
    }
   ],
   "source": [
    "svm_reg = SVR()\n",
    "svm_reg.fit(housing_prepared, housing_labels)\n",
    "housing_predictions = svm_reg.predict(housing_prepared)\n",
    "svm_rmse = np.sqrt(mean_squared_error(housing_labels, housing_predictions) )\n",
    "svm_rmse"
   ]
  },
  {
   "cell_type": "markdown",
   "metadata": {},
   "source": [
    "# cross-validation"
   ]
  },
  {
   "cell_type": "code",
   "execution_count": 13,
   "metadata": {},
   "outputs": [
    {
     "name": "stdout",
     "output_type": "stream",
     "text": [
      "Mean error: 69052.46136345083\n",
      "Std error: 2731.674001798347\n"
     ]
    }
   ],
   "source": [
    "scores = cross_val_score(lin_reg,\n",
    "                         housing_prepared,\n",
    "                         housing_labels,\n",
    "                         scoring=\"neg_mean_squared_error\",\n",
    "                         cv=10) \n",
    "\n",
    "lin_rmse_scores = np.sqrt(-scores)\n",
    "print('Mean error:',lin_rmse_scores.mean())\n",
    "print('Std error:',lin_rmse_scores.std())"
   ]
  },
  {
   "cell_type": "code",
   "execution_count": 12,
   "metadata": {},
   "outputs": [
    {
     "name": "stdout",
     "output_type": "stream",
     "text": [
      "Mean error: 70679.96841238369\n",
      "Std error: 2841.258762154916\n"
     ]
    }
   ],
   "source": [
    "scores = cross_val_score(tree_reg,\n",
    "                         housing_prepared,\n",
    "                         housing_labels,\n",
    "                         scoring=\"neg_mean_squared_error\",\n",
    "                         cv=10) \n",
    "\n",
    "tree_rmse_scores = np.sqrt(-scores)\n",
    "print('Mean error:',tree_rmse_scores.mean())\n",
    "print('Std error:',tree_rmse_scores.std())"
   ]
  },
  {
   "cell_type": "code",
   "execution_count": 15,
   "metadata": {},
   "outputs": [
    {
     "name": "stdout",
     "output_type": "stream",
     "text": [
      "Mean error: 50218.782940831414\n",
      "Std error: 2044.0958984374845\n"
     ]
    }
   ],
   "source": [
    "scores = cross_val_score(forest_reg,\n",
    "                         housing_prepared,\n",
    "                         housing_labels,\n",
    "                         scoring=\"neg_mean_squared_error\",\n",
    "                         cv=10) \n",
    "\n",
    "forest_rmse_scores = np.sqrt(-scores)\n",
    "print('Mean error:',forest_rmse_scores.mean())\n",
    "print('Std error:',forest_rmse_scores.std())"
   ]
  },
  {
   "cell_type": "code",
   "execution_count": 17,
   "metadata": {},
   "outputs": [
    {
     "data": {
      "text/plain": [
       "GridSearchCV(cv=5, estimator=RandomForestRegressor(),\n",
       "             param_grid=[{'max_features': [2, 4, 6, 8],\n",
       "                          'n_estimators': [3, 10, 30]}],\n",
       "             return_train_score=True, scoring='neg_mean_squared_error')"
      ]
     },
     "execution_count": 17,
     "metadata": {},
     "output_type": "execute_result"
    }
   ],
   "source": [
    "param_grid = [{'n_estimators': [3, 10, 30], 'max_features': [2, 4, 6, 8]}] \n",
    "grid_search = GridSearchCV(forest_reg, \n",
    "                           param_grid,\n",
    "                           cv=5,\n",
    "                           scoring='neg_mean_squared_error',\n",
    "                           return_train_score=True) \n",
    " \n",
    "grid_search.fit(housing_prepared, housing_labels)\n"
   ]
  },
  {
   "cell_type": "code",
   "execution_count": 26,
   "metadata": {},
   "outputs": [
    {
     "data": {
      "text/plain": [
       "{'max_features': 6, 'n_estimators': 30}"
      ]
     },
     "execution_count": 26,
     "metadata": {},
     "output_type": "execute_result"
    }
   ],
   "source": [
    "grid_search.best_params_"
   ]
  },
  {
   "cell_type": "code",
   "execution_count": 25,
   "metadata": {},
   "outputs": [
    {
     "name": "stdout",
     "output_type": "stream",
     "text": [
      "63713.99067730326 {'max_features': 2, 'n_estimators': 3}\n",
      "55473.81997336434 {'max_features': 2, 'n_estimators': 10}\n",
      "52395.389596272275 {'max_features': 2, 'n_estimators': 30}\n",
      "60605.22887725684 {'max_features': 4, 'n_estimators': 3}\n",
      "53005.74231713559 {'max_features': 4, 'n_estimators': 10}\n",
      "50645.50826104539 {'max_features': 4, 'n_estimators': 30}\n",
      "59285.07707756004 {'max_features': 6, 'n_estimators': 3}\n",
      "52301.5638905305 {'max_features': 6, 'n_estimators': 10}\n",
      "50041.36987263269 {'max_features': 6, 'n_estimators': 30}\n",
      "58710.01852837401 {'max_features': 8, 'n_estimators': 3}\n",
      "51733.0031391898 {'max_features': 8, 'n_estimators': 10}\n",
      "50083.513778894645 {'max_features': 8, 'n_estimators': 30}\n"
     ]
    }
   ],
   "source": [
    "mean_scores = np.sqrt(-grid_search.cv_results_[\"mean_test_score\"])\n",
    "params = grid_search.cv_results_[\"params\"]\n",
    "\n",
    "for mean_score, param in zip(mean_scores, params):\n",
    "    print(mean_score, param)"
   ]
  },
  {
   "cell_type": "code",
   "execution_count": 42,
   "metadata": {},
   "outputs": [
    {
     "data": {
      "text/plain": [
       "[(0.32534175886641337, 'median_income'),\n",
       " (0.1480471187711867, 'INLAND'),\n",
       " (0.10588370317528001, 'pop_per_hhold'),\n",
       " (0.0798356149808007, 'bedrooms_per_room'),\n",
       " (0.07764326169397036, 'longitude'),\n",
       " (0.07058069018806314, 'latitude'),\n",
       " (0.06408073658278675, 'rooms_per_hhold'),\n",
       " (0.04415591447273799, 'housing_median_age'),\n",
       " (0.018236342688726717, 'total_rooms'),\n",
       " (0.017482068978249988, 'population'),\n",
       " (0.016601994818799412, 'total_bedrooms'),\n",
       " (0.01655484938672714, 'households'),\n",
       " (0.0080606838736648, '<1H OCEAN'),\n",
       " (0.003783659090222142, 'NEAR BAY'),\n",
       " (0.0035852861663561286, 'NEAR OCEAN'),\n",
       " (0.0001263162660146184, 'ISLAND')]"
      ]
     },
     "execution_count": 42,
     "metadata": {},
     "output_type": "execute_result"
    }
   ],
   "source": [
    "ft_imps = grid_search.best_estimator_.feature_importances_ \n",
    "cat_one_hot_attribs = list(full_pipeline.named_transformers_[\"cat\"]['encoder'].categories_[0])\n",
    "extra_attribs = [\"rooms_per_hhold\", \"pop_per_hhold\", \"bedrooms_per_room\"] \n",
    "attributes = num_attribs + extra_attribs + cat_one_hot_attribs\n",
    "sorted(zip(ft_imps, attributes), reverse=True)"
   ]
  },
  {
   "cell_type": "code",
   "execution_count": 44,
   "metadata": {},
   "outputs": [
    {
     "name": "stdout",
     "output_type": "stream",
     "text": [
      "Test RMSE error:  47914.166130416765\n"
     ]
    }
   ],
   "source": [
    "final_model = grid_search.best_estimator_ \n",
    " \n",
    "X_test = strat_test_set.drop(\"median_house_value\", axis=1) \n",
    "y_test = strat_test_set[\"median_house_value\"].copy() \n",
    " \n",
    "X_test_prepared = full_pipeline.transform(X_test) \n",
    " \n",
    "final_predictions = final_model.predict(X_test_prepared) \n",
    " \n",
    "final_mse = mean_squared_error(y_test, final_predictions)\n",
    "final_rmse = np.sqrt(final_mse)\n",
    "print(\"Test RMSE error: \",final_rmse)"
   ]
  },
  {
   "cell_type": "code",
   "execution_count": 51,
   "metadata": {},
   "outputs": [
    {
     "data": {
      "text/plain": [
       "array([45943.92424972, 49806.53025942])"
      ]
     },
     "execution_count": 51,
     "metadata": {},
     "output_type": "execute_result"
    }
   ],
   "source": [
    "confidence = 0.95 \n",
    "squared_errors = (final_predictions - y_test) ** 2\n",
    "np.sqrt(stats.t.interval(confidence, len(squared_errors) - 1, \n",
    "                         loc=squared_errors.mean(), \n",
    "                         scale=stats.sem(squared_errors))) "
   ]
  },
  {
   "cell_type": "code",
   "execution_count": null,
   "metadata": {},
   "outputs": [],
   "source": []
  },
  {
   "cell_type": "code",
   "execution_count": null,
   "metadata": {},
   "outputs": [],
   "source": []
  }
 ],
 "metadata": {
  "kernelspec": {
   "display_name": "Python 3",
   "language": "python",
   "name": "python3"
  },
  "language_info": {
   "codemirror_mode": {
    "name": "ipython",
    "version": 3
   },
   "file_extension": ".py",
   "mimetype": "text/x-python",
   "name": "python",
   "nbconvert_exporter": "python",
   "pygments_lexer": "ipython3",
   "version": "3.7.6"
  }
 },
 "nbformat": 4,
 "nbformat_minor": 4
}
